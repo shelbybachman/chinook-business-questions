{
 "cells": [
  {
   "cell_type": "markdown",
   "metadata": {},
   "source": [
    "## Answering business questions with SQL"
   ]
  },
  {
   "cell_type": "markdown",
   "metadata": {},
   "source": [
    "In this project, I used the [`Chinook` database](https://github.com/lerocha/chinook-database) to answer a series of hypothetical business questions. In this notebook, I use SQLite."
   ]
  },
  {
   "cell_type": "markdown",
   "metadata": {},
   "source": [
    "### Setup"
   ]
  },
  {
   "cell_type": "code",
   "execution_count": 47,
   "metadata": {
    "collapsed": false
   },
   "outputs": [
    {
     "data": {
      "text/plain": [
       "'Connected: None@chinook.db'"
      ]
     },
     "execution_count": 47,
     "metadata": {},
     "output_type": "execute_result"
    }
   ],
   "source": [
    "%%capture\n",
    "%load_ext sql\n",
    "%sql sqlite:///chinook.db"
   ]
  },
  {
   "cell_type": "markdown",
   "metadata": {},
   "source": [
    "Below is a graphical depiction of the tables in the `Chinook` database:"
   ]
  },
  {
   "cell_type": "code",
   "execution_count": 48,
   "metadata": {
    "collapsed": false
   },
   "outputs": [
    {
     "data": {
      "text/html": [
       "\n",
       "<img src=\"https://s3.amazonaws.com/dq-content/191/chinook-schema.svg\" alt=\"ChinookDB\" width=\"500\" height=\"600\"/>"
      ],
      "text/plain": [
       "<IPython.core.display.HTML object>"
      ]
     },
     "metadata": {},
     "output_type": "display_data"
    }
   ],
   "source": [
    "%%html\n",
    "\n",
    "<img src=\"https://s3.amazonaws.com/dq-content/191/chinook-schema.svg\" alt=\"ChinookDB\" width=\"500\" height=\"600\"/>"
   ]
  },
  {
   "cell_type": "markdown",
   "metadata": {},
   "source": [
    "And below is a tabular summary of the tables in the `Chinook` database:"
   ]
  },
  {
   "cell_type": "code",
   "execution_count": 49,
   "metadata": {
    "collapsed": false
   },
   "outputs": [
    {
     "name": "stdout",
     "output_type": "stream",
     "text": [
      "Done.\n"
     ]
    },
    {
     "data": {
      "text/html": [
       "<table>\n",
       "    <tr>\n",
       "        <th>name</th>\n",
       "        <th>type</th>\n",
       "    </tr>\n",
       "    <tr>\n",
       "        <td>album</td>\n",
       "        <td>table</td>\n",
       "    </tr>\n",
       "    <tr>\n",
       "        <td>artist</td>\n",
       "        <td>table</td>\n",
       "    </tr>\n",
       "    <tr>\n",
       "        <td>customer</td>\n",
       "        <td>table</td>\n",
       "    </tr>\n",
       "    <tr>\n",
       "        <td>employee</td>\n",
       "        <td>table</td>\n",
       "    </tr>\n",
       "    <tr>\n",
       "        <td>genre</td>\n",
       "        <td>table</td>\n",
       "    </tr>\n",
       "    <tr>\n",
       "        <td>invoice</td>\n",
       "        <td>table</td>\n",
       "    </tr>\n",
       "    <tr>\n",
       "        <td>invoice_line</td>\n",
       "        <td>table</td>\n",
       "    </tr>\n",
       "    <tr>\n",
       "        <td>media_type</td>\n",
       "        <td>table</td>\n",
       "    </tr>\n",
       "    <tr>\n",
       "        <td>playlist</td>\n",
       "        <td>table</td>\n",
       "    </tr>\n",
       "    <tr>\n",
       "        <td>playlist_track</td>\n",
       "        <td>table</td>\n",
       "    </tr>\n",
       "    <tr>\n",
       "        <td>track</td>\n",
       "        <td>table</td>\n",
       "    </tr>\n",
       "</table>"
      ],
      "text/plain": [
       "[('album', 'table'),\n",
       " ('artist', 'table'),\n",
       " ('customer', 'table'),\n",
       " ('employee', 'table'),\n",
       " ('genre', 'table'),\n",
       " ('invoice', 'table'),\n",
       " ('invoice_line', 'table'),\n",
       " ('media_type', 'table'),\n",
       " ('playlist', 'table'),\n",
       " ('playlist_track', 'table'),\n",
       " ('track', 'table')]"
      ]
     },
     "execution_count": 49,
     "metadata": {},
     "output_type": "execute_result"
    }
   ],
   "source": [
    "%%sql\n",
    "\n",
    "SELECT \n",
    "    name\n",
    "    , type\n",
    "FROM sqlite_master\n",
    "WHeRE type IN ('table', 'view');"
   ]
  },
  {
   "cell_type": "markdown",
   "metadata": {},
   "source": [
    "### Which genres sell the most tracks in the USA?"
   ]
  },
  {
   "cell_type": "markdown",
   "metadata": {},
   "source": [
    "In the first scenario, the Chinook record store has just signed a deal with a new record label, and our task is to find the first 3 albums that will be added to the store. We know that the record label specializes in artists from the US, as well as the artist names from the new label and their respective genres:"
   ]
  },
  {
   "cell_type": "markdown",
   "metadata": {},
   "source": [
    "| Artist Name | Genre |\n",
    "|-------------|-------|\n",
    "| Regal | Hip-Hop |\n",
    "| Red Tone | Punk |\n",
    "| Meteor and the Girls | Pop |\n",
    "| Slim Jim Bites | Blues |"
   ]
  },
  {
   "cell_type": "markdown",
   "metadata": {},
   "source": [
    "I begin tackling this question by examining the genres that sell the most tracks in the US. The query below returns the number and percentage of tracks sold for each genre in the US:"
   ]
  },
  {
   "cell_type": "code",
   "execution_count": 50,
   "metadata": {
    "collapsed": false
   },
   "outputs": [
    {
     "name": "stdout",
     "output_type": "stream",
     "text": [
      "Done.\n"
     ]
    },
    {
     "data": {
      "text/html": [
       "<table>\n",
       "    <tr>\n",
       "        <th>genre_name</th>\n",
       "        <th>number_of_tracks</th>\n",
       "        <th>pct_of_all_tracks</th>\n",
       "    </tr>\n",
       "    <tr>\n",
       "        <td>Rock</td>\n",
       "        <td>561</td>\n",
       "        <td>0.534</td>\n",
       "    </tr>\n",
       "    <tr>\n",
       "        <td>Alternative &amp; Punk</td>\n",
       "        <td>130</td>\n",
       "        <td>0.124</td>\n",
       "    </tr>\n",
       "    <tr>\n",
       "        <td>Metal</td>\n",
       "        <td>124</td>\n",
       "        <td>0.118</td>\n",
       "    </tr>\n",
       "    <tr>\n",
       "        <td>R&amp;B/Soul</td>\n",
       "        <td>53</td>\n",
       "        <td>0.05</td>\n",
       "    </tr>\n",
       "    <tr>\n",
       "        <td>Blues</td>\n",
       "        <td>36</td>\n",
       "        <td>0.034</td>\n",
       "    </tr>\n",
       "    <tr>\n",
       "        <td>Alternative</td>\n",
       "        <td>35</td>\n",
       "        <td>0.033</td>\n",
       "    </tr>\n",
       "    <tr>\n",
       "        <td>Latin</td>\n",
       "        <td>22</td>\n",
       "        <td>0.021</td>\n",
       "    </tr>\n",
       "    <tr>\n",
       "        <td>Pop</td>\n",
       "        <td>22</td>\n",
       "        <td>0.021</td>\n",
       "    </tr>\n",
       "    <tr>\n",
       "        <td>Hip Hop/Rap</td>\n",
       "        <td>20</td>\n",
       "        <td>0.019</td>\n",
       "    </tr>\n",
       "    <tr>\n",
       "        <td>Jazz</td>\n",
       "        <td>14</td>\n",
       "        <td>0.013</td>\n",
       "    </tr>\n",
       "    <tr>\n",
       "        <td>Easy Listening</td>\n",
       "        <td>13</td>\n",
       "        <td>0.012</td>\n",
       "    </tr>\n",
       "    <tr>\n",
       "        <td>Reggae</td>\n",
       "        <td>6</td>\n",
       "        <td>0.006</td>\n",
       "    </tr>\n",
       "    <tr>\n",
       "        <td>Electronica/Dance</td>\n",
       "        <td>5</td>\n",
       "        <td>0.005</td>\n",
       "    </tr>\n",
       "    <tr>\n",
       "        <td>Classical</td>\n",
       "        <td>4</td>\n",
       "        <td>0.004</td>\n",
       "    </tr>\n",
       "    <tr>\n",
       "        <td>Heavy Metal</td>\n",
       "        <td>3</td>\n",
       "        <td>0.003</td>\n",
       "    </tr>\n",
       "    <tr>\n",
       "        <td>Soundtrack</td>\n",
       "        <td>2</td>\n",
       "        <td>0.002</td>\n",
       "    </tr>\n",
       "    <tr>\n",
       "        <td>TV Shows</td>\n",
       "        <td>1</td>\n",
       "        <td>0.001</td>\n",
       "    </tr>\n",
       "</table>"
      ],
      "text/plain": [
       "[('Rock', 561, 0.534),\n",
       " ('Alternative & Punk', 130, 0.124),\n",
       " ('Metal', 124, 0.118),\n",
       " ('R&B/Soul', 53, 0.05),\n",
       " ('Blues', 36, 0.034),\n",
       " ('Alternative', 35, 0.033),\n",
       " ('Latin', 22, 0.021),\n",
       " ('Pop', 22, 0.021),\n",
       " ('Hip Hop/Rap', 20, 0.019),\n",
       " ('Jazz', 14, 0.013),\n",
       " ('Easy Listening', 13, 0.012),\n",
       " ('Reggae', 6, 0.006),\n",
       " ('Electronica/Dance', 5, 0.005),\n",
       " ('Classical', 4, 0.004),\n",
       " ('Heavy Metal', 3, 0.003),\n",
       " ('Soundtrack', 2, 0.002),\n",
       " ('TV Shows', 1, 0.001)]"
      ]
     },
     "execution_count": 50,
     "metadata": {},
     "output_type": "execute_result"
    }
   ],
   "source": [
    "%%sql\n",
    "\n",
    "WITH track_genre AS \n",
    "(\n",
    "    SELECT t.track_id\n",
    "           , t.genre_id\n",
    "           , g.name AS genre_name\n",
    "    FROM track AS t\n",
    "    LEFT JOIN genre AS g ON t.genre_id = g.genre_id\n",
    "), track_invoices AS\n",
    "(\n",
    "    SELECT il.invoice_id\n",
    "           , il.track_id\n",
    "           , tg.genre_name\n",
    "    FROM invoice_line AS il\n",
    "    LEFT JOIN track_genre AS tg ON il.track_id = tg.track_id\n",
    "), track_sales AS\n",
    "(\n",
    "    SELECT ti.invoice_id\n",
    "           , ti.track_id\n",
    "           , ti.genre_name\n",
    "           , i.billing_country\n",
    "           , i.total\n",
    "    FROM invoice AS i\n",
    "    LEFT JOIN track_invoices AS ti ON ti.invoice_id = i.invoice_id\n",
    "    WHERE i.billing_country = 'USA'\n",
    "), genre_totals_usa AS\n",
    "(\n",
    "    SELECT genre_name\n",
    "           , billing_country\n",
    "           , COUNT(*) AS number_of_tracks\n",
    "    FROM track_sales\n",
    "    GROUP BY genre_name\n",
    "), sum_all_tracks AS\n",
    "(\n",
    "    SELECT billing_country\n",
    "           , SUM(number_of_tracks) AS total\n",
    "    FROM genre_totals_usa\n",
    ")\n",
    "\n",
    "SELECT gtu.genre_name\n",
    "       , gtu.number_of_tracks\n",
    "       , ROUND((CAST(gtu.number_of_tracks AS FLOAT) / sat.total),3) AS pct_of_all_tracks\n",
    "    FROM genre_totals_usa AS gtu\n",
    "    LEFT JOIN sum_all_tracks AS sat ON sat.billing_country = gtu.billing_country\n",
    "    ORDER BY number_of_tracks DESC;"
   ]
  },
  {
   "cell_type": "markdown",
   "metadata": {
    "collapsed": true
   },
   "source": [
    "The artists from the new record label have the genres hip-hop, punk, pop, and blues. Based on the above information, our recommendation is to purchase albums from the following 3 artists:\n",
    "\n",
    "| Artist Name | Genre |\n",
    "|-------------|-------|\n",
    "| Red Tone | Punk |\n",
    "| Slim Jim Bites | Blues |\n",
    "| Meteor and the Girls | Pop |"
   ]
  },
  {
   "cell_type": "markdown",
   "metadata": {},
   "source": [
    "### Which sales support agents are performing better or worse than the others?"
   ]
  },
  {
   "cell_type": "markdown",
   "metadata": {},
   "source": [
    "For the next question, we consider that each customer in the `Chinook` database gets assigned to a sales support agent when they make a purchase. We want to know if there are sales support agents that are performing better or worse than others."
   ]
  },
  {
   "cell_type": "markdown",
   "metadata": {},
   "source": [
    "To answer this question, I will analyze the purchases of customers assigned to each sales support agent, and then examine agents associated with especially high and especially low purchase amounts."
   ]
  },
  {
   "cell_type": "code",
   "execution_count": 51,
   "metadata": {
    "collapsed": false
   },
   "outputs": [
    {
     "name": "stdout",
     "output_type": "stream",
     "text": [
      "Done.\n"
     ]
    },
    {
     "data": {
      "text/html": [
       "<table>\n",
       "    <tr>\n",
       "        <th>support_rep_name</th>\n",
       "        <th>total_customer_purchases</th>\n",
       "    </tr>\n",
       "    <tr>\n",
       "        <td>Jane Peacock</td>\n",
       "        <td>1731.5099999999998</td>\n",
       "    </tr>\n",
       "    <tr>\n",
       "        <td>Margaret Park</td>\n",
       "        <td>1584.0000000000002</td>\n",
       "    </tr>\n",
       "    <tr>\n",
       "        <td>Steve Johnson</td>\n",
       "        <td>1393.92</td>\n",
       "    </tr>\n",
       "</table>"
      ],
      "text/plain": [
       "[('Jane Peacock', 1731.5099999999998),\n",
       " ('Margaret Park', 1584.0000000000002),\n",
       " ('Steve Johnson', 1393.92)]"
      ]
     },
     "execution_count": 51,
     "metadata": {},
     "output_type": "execute_result"
    }
   ],
   "source": [
    "%%sql\n",
    "\n",
    "WITH customer_rep AS (\n",
    "    SELECT c.customer_id\n",
    "           , c.support_rep_id\n",
    "           , e.first_name || ' ' || e.last_name AS support_rep_name\n",
    "    FROM customer AS c\n",
    "    LEFT JOIN employee AS e ON c.support_rep_id = e.employee_id\n",
    "), customer_totals AS (\n",
    "    SELECT cr.customer_id\n",
    "           , cr.support_rep_id\n",
    "           , cr.support_rep_name\n",
    "           , SUM(i.total) AS total_purchases\n",
    "    FROM invoice AS i\n",
    "    LEFT JOIN customer_rep AS cr ON i.customer_id = cr.customer_id\n",
    "    GROUP BY cr.customer_id\n",
    ")\n",
    "\n",
    "SELECT support_rep_name\n",
    "       , SUM(total_purchases) AS total_customer_purchases\n",
    "    FROM customer_totals\n",
    "    GROUP BY support_rep_name\n",
    "    "
   ]
  },
  {
   "cell_type": "markdown",
   "metadata": {},
   "source": [
    "From the result above, we can see that there is variation in the total sales facilitated by each support agent, although there are only 3 agents total."
   ]
  },
  {
   "cell_type": "markdown",
   "metadata": {},
   "source": [
    "We use the query below to check that these are indeed the only 3 support sales agents in the database:"
   ]
  },
  {
   "cell_type": "code",
   "execution_count": 52,
   "metadata": {
    "collapsed": false
   },
   "outputs": [
    {
     "name": "stdout",
     "output_type": "stream",
     "text": [
      "Done.\n"
     ]
    },
    {
     "data": {
      "text/html": [
       "<table>\n",
       "    <tr>\n",
       "        <th>employee_id</th>\n",
       "        <th>employee_name</th>\n",
       "    </tr>\n",
       "    <tr>\n",
       "        <td>3</td>\n",
       "        <td>Jane Peacock</td>\n",
       "    </tr>\n",
       "    <tr>\n",
       "        <td>4</td>\n",
       "        <td>Margaret Park</td>\n",
       "    </tr>\n",
       "    <tr>\n",
       "        <td>5</td>\n",
       "        <td>Steve Johnson</td>\n",
       "    </tr>\n",
       "</table>"
      ],
      "text/plain": [
       "[(3, 'Jane Peacock'), (4, 'Margaret Park'), (5, 'Steve Johnson')]"
      ]
     },
     "execution_count": 52,
     "metadata": {},
     "output_type": "execute_result"
    }
   ],
   "source": [
    "%%sql\n",
    "\n",
    "SELECT employee_id\n",
    "       , first_name|| ' ' || last_name AS employee_name\n",
    "   FROM employee\n",
    "   WHERE title = \"Sales Support Agent\"\n",
    "   GROUP BY employee_id;"
   ]
  },
  {
   "cell_type": "markdown",
   "metadata": {},
   "source": [
    "### Which countries have the highest total customers and sales?"
   ]
  },
  {
   "cell_type": "markdown",
   "metadata": {},
   "source": [
    "Next, we would like to know the countries with the most customers and sales. To answer this question, for each country, I will calculate the total number of customers, total value of sales, average value of sales per customer, and average order value:"
   ]
  },
  {
   "cell_type": "markdown",
   "metadata": {},
   "source": [
    "Note that there are some countries with only 1 customer. I will group these customers as \"Others\" for the analysis."
   ]
  },
  {
   "cell_type": "code",
   "execution_count": 53,
   "metadata": {
    "collapsed": false
   },
   "outputs": [
    {
     "name": "stdout",
     "output_type": "stream",
     "text": [
      "Done.\n"
     ]
    },
    {
     "data": {
      "text/html": [
       "<table>\n",
       "    <tr>\n",
       "        <th>country</th>\n",
       "        <th>total_customers</th>\n",
       "        <th>total_sales</th>\n",
       "        <th>avg_sale_per_customer</th>\n",
       "        <th>avg_order_amount</th>\n",
       "    </tr>\n",
       "    <tr>\n",
       "        <td>Brazil</td>\n",
       "        <td>25</td>\n",
       "        <td>427.68</td>\n",
       "        <td>85.54</td>\n",
       "        <td>7.01</td>\n",
       "    </tr>\n",
       "    <tr>\n",
       "        <td>Canada</td>\n",
       "        <td>64</td>\n",
       "        <td>535.59</td>\n",
       "        <td>66.95</td>\n",
       "        <td>7.05</td>\n",
       "    </tr>\n",
       "    <tr>\n",
       "        <td>Czech Republic</td>\n",
       "        <td>4</td>\n",
       "        <td>273.24</td>\n",
       "        <td>136.62</td>\n",
       "        <td>9.11</td>\n",
       "    </tr>\n",
       "    <tr>\n",
       "        <td>France</td>\n",
       "        <td>25</td>\n",
       "        <td>389.07</td>\n",
       "        <td>77.81</td>\n",
       "        <td>7.78</td>\n",
       "    </tr>\n",
       "    <tr>\n",
       "        <td>Germany</td>\n",
       "        <td>16</td>\n",
       "        <td>334.62</td>\n",
       "        <td>83.66</td>\n",
       "        <td>8.16</td>\n",
       "    </tr>\n",
       "    <tr>\n",
       "        <td>India</td>\n",
       "        <td>4</td>\n",
       "        <td>183.15</td>\n",
       "        <td>91.57</td>\n",
       "        <td>8.72</td>\n",
       "    </tr>\n",
       "    <tr>\n",
       "        <td>Portugal</td>\n",
       "        <td>4</td>\n",
       "        <td>185.13</td>\n",
       "        <td>92.56</td>\n",
       "        <td>6.38</td>\n",
       "    </tr>\n",
       "    <tr>\n",
       "        <td>USA</td>\n",
       "        <td>169</td>\n",
       "        <td>1040.49</td>\n",
       "        <td>80.04</td>\n",
       "        <td>7.94</td>\n",
       "    </tr>\n",
       "    <tr>\n",
       "        <td>United Kingdom</td>\n",
       "        <td>9</td>\n",
       "        <td>245.52</td>\n",
       "        <td>81.84</td>\n",
       "        <td>8.77</td>\n",
       "    </tr>\n",
       "    <tr>\n",
       "        <td>Other</td>\n",
       "        <td>15</td>\n",
       "        <td>1094.94</td>\n",
       "        <td>73.0</td>\n",
       "        <td>7.45</td>\n",
       "    </tr>\n",
       "</table>"
      ],
      "text/plain": [
       "[('Brazil', 25, 427.68, 85.54, 7.01),\n",
       " ('Canada', 64, 535.59, 66.95, 7.05),\n",
       " ('Czech Republic', 4, 273.24, 136.62, 9.11),\n",
       " ('France', 25, 389.07, 77.81, 7.78),\n",
       " ('Germany', 16, 334.62, 83.66, 8.16),\n",
       " ('India', 4, 183.15, 91.57, 8.72),\n",
       " ('Portugal', 4, 185.13, 92.56, 6.38),\n",
       " ('USA', 169, 1040.49, 80.04, 7.94),\n",
       " ('United Kingdom', 9, 245.52, 81.84, 8.77),\n",
       " ('Other', 15, 1094.94, 73.0, 7.45)]"
      ]
     },
     "execution_count": 53,
     "metadata": {},
     "output_type": "execute_result"
    }
   ],
   "source": [
    "%%sql\n",
    "\n",
    "WITH customer_invoices AS (\n",
    "    SELECT c.customer_id\n",
    "           , c.first_name || ' ' || c.last_name AS customer_name\n",
    "           , c.country\n",
    "           , i.invoice_id\n",
    "           , i.total\n",
    "    FROM invoice AS i\n",
    "    LEFT JOIN customer AS c ON i.customer_id = c.customer_id\n",
    "), customer_totals AS (\n",
    "    SELECT ci.customer_id\n",
    "           , ci.customer_name\n",
    "           , ci.country\n",
    "           , SUM(ci.total) AS customer_total\n",
    "    FROM customer_invoices AS ci\n",
    "    GROUP BY ci.customer_id\n",
    "), country_customers AS (\n",
    "    SELECT country\n",
    "           , COUNT(*) AS n_customers\n",
    "    FROM customer_totals\n",
    "    GROUP BY country\n",
    "    ORDER BY n_customers DESC\n",
    "), country_customers_relabeled AS (\n",
    "    SELECT \n",
    "        country\n",
    "        , CASE\n",
    "            WHEN country_customers.n_customers = 1 THEN 'Other'\n",
    "            ELSE country_customers.country\n",
    "        END AS country_name\n",
    "        , n_customers\n",
    "    FROM country_customers\n",
    "), country_totals AS (\n",
    "    SELECT ccr.country_name\n",
    "           , SUM(ccr.n_customers) AS total_customers\n",
    "           , SUM(ct.customer_total) AS total_sales\n",
    "           , AVG(ct.customer_total) AS avg_sale_per_customer\n",
    "    FROM customer_totals AS ct\n",
    "    LEFT JOIN country_customers_relabeled AS ccr ON ct.country = ccr.country\n",
    "    GROUP BY ccr.country_name\n",
    "), country_order_avg AS (\n",
    "    SELECT ccr.country_name\n",
    "           , AVG(ci.total) AS avg_order_amount\n",
    "    FROM customer_invoices AS ci\n",
    "    LEFT JOIN country_customers_relabeled AS ccr ON ci.country = ccr.country\n",
    "    GROUP BY ccr.country_name\n",
    "), final_country_summary AS (\n",
    "    SELECT ct.country_name\n",
    "       , ct.total_customers\n",
    "       , ROUND(ct.total_sales, 2) AS total_sales\n",
    "       , ROUND(ct.avg_sale_per_customer, 2) AS avg_sale_per_customer\n",
    "       , ROUND(coa.avg_order_amount, 2) AS avg_order_amount\n",
    "    FROM country_totals AS ct\n",
    "    LEFT JOIN country_order_avg AS coa ON ct.country_name = coa.country_name\n",
    ")\n",
    "\n",
    "SELECT country_name AS country\n",
    "       , total_customers\n",
    "       , total_sales\n",
    "       , avg_sale_per_customer\n",
    "       , avg_order_amount\n",
    "    FROM \n",
    "    (\n",
    "        SELECT fcs.*\n",
    "        , CASE\n",
    "            WHEN fcs.country_name = 'Other' THEN 1\n",
    "            ELSE 0\n",
    "        END AS sort\n",
    "        FROM final_country_summary AS fcs\n",
    "    )\n",
    "    ORDER BY sort ASC"
   ]
  },
  {
   "cell_type": "markdown",
   "metadata": {},
   "source": [
    "The results indicate that the USA has the highest number of total customers, as well as the highest total sales amount (aside from countries collectively marked as Other). Czech Republic has the highest average total sales per customer, as well as the highest average order amount."
   ]
  },
  {
   "cell_type": "markdown",
   "metadata": {},
   "source": [
    "### What percentage of purchases are individual tracks vs. whole albums?"
   ]
  },
  {
   "cell_type": "markdown",
   "metadata": {},
   "source": [
    "To answer this question, I need to identify whether each invoice has all the tracks from an album, which I do in the queries below."
   ]
  },
  {
   "cell_type": "markdown",
   "metadata": {},
   "source": [
    "First, I create a table that has all the tracks and their corresponding album IDs included in each invoice:"
   ]
  },
  {
   "cell_type": "code",
   "execution_count": 54,
   "metadata": {
    "collapsed": false
   },
   "outputs": [
    {
     "name": "stdout",
     "output_type": "stream",
     "text": [
      "Done.\n"
     ]
    },
    {
     "data": {
      "text/html": [
       "<table>\n",
       "    <tr>\n",
       "        <th>invoice_id</th>\n",
       "        <th>album_id</th>\n",
       "        <th>track_id</th>\n",
       "    </tr>\n",
       "    <tr>\n",
       "        <td>1</td>\n",
       "        <td>91</td>\n",
       "        <td>1158</td>\n",
       "    </tr>\n",
       "    <tr>\n",
       "        <td>1</td>\n",
       "        <td>91</td>\n",
       "        <td>1159</td>\n",
       "    </tr>\n",
       "    <tr>\n",
       "        <td>1</td>\n",
       "        <td>91</td>\n",
       "        <td>1160</td>\n",
       "    </tr>\n",
       "    <tr>\n",
       "        <td>1</td>\n",
       "        <td>91</td>\n",
       "        <td>1161</td>\n",
       "    </tr>\n",
       "    <tr>\n",
       "        <td>1</td>\n",
       "        <td>91</td>\n",
       "        <td>1162</td>\n",
       "    </tr>\n",
       "    <tr>\n",
       "        <td>1</td>\n",
       "        <td>91</td>\n",
       "        <td>1163</td>\n",
       "    </tr>\n",
       "    <tr>\n",
       "        <td>1</td>\n",
       "        <td>91</td>\n",
       "        <td>1164</td>\n",
       "    </tr>\n",
       "    <tr>\n",
       "        <td>1</td>\n",
       "        <td>91</td>\n",
       "        <td>1165</td>\n",
       "    </tr>\n",
       "    <tr>\n",
       "        <td>1</td>\n",
       "        <td>91</td>\n",
       "        <td>1166</td>\n",
       "    </tr>\n",
       "    <tr>\n",
       "        <td>1</td>\n",
       "        <td>91</td>\n",
       "        <td>1167</td>\n",
       "    </tr>\n",
       "</table>"
      ],
      "text/plain": [
       "[(1, 91, 1158),\n",
       " (1, 91, 1159),\n",
       " (1, 91, 1160),\n",
       " (1, 91, 1161),\n",
       " (1, 91, 1162),\n",
       " (1, 91, 1163),\n",
       " (1, 91, 1164),\n",
       " (1, 91, 1165),\n",
       " (1, 91, 1166),\n",
       " (1, 91, 1167)]"
      ]
     },
     "execution_count": 54,
     "metadata": {},
     "output_type": "execute_result"
    }
   ],
   "source": [
    "%%sql\n",
    "\n",
    "WITH invoices_tracks_albums AS (\n",
    "    SELECT i.invoice_id\n",
    "           , a.album_id\n",
    "           , t.track_id\n",
    "    FROM invoice AS i\n",
    "    LEFT JOIN invoice_line AS il ON i.invoice_id = il.invoice_id\n",
    "    LEFT JOIN track AS t ON il.track_id = t.track_id\n",
    "    LEFT JOIN album AS a ON t.album_id = a.album_id\n",
    ")\n",
    "\n",
    "SELECT *\n",
    "    FROM invoices_tracks_albums\n",
    "    ORDER BY invoice_id, album_id, track_id\n",
    "    LIMIT 10"
   ]
  },
  {
   "cell_type": "markdown",
   "metadata": {
    "collapsed": true
   },
   "source": [
    "I also need a table that lists the tracks on each album:"
   ]
  },
  {
   "cell_type": "code",
   "execution_count": 55,
   "metadata": {
    "collapsed": false
   },
   "outputs": [
    {
     "name": "stdout",
     "output_type": "stream",
     "text": [
      "Done.\n"
     ]
    },
    {
     "data": {
      "text/html": [
       "<table>\n",
       "    <tr>\n",
       "        <th>album_id</th>\n",
       "        <th>track_id</th>\n",
       "    </tr>\n",
       "    <tr>\n",
       "        <td>1</td>\n",
       "        <td>1</td>\n",
       "    </tr>\n",
       "    <tr>\n",
       "        <td>1</td>\n",
       "        <td>6</td>\n",
       "    </tr>\n",
       "    <tr>\n",
       "        <td>1</td>\n",
       "        <td>7</td>\n",
       "    </tr>\n",
       "    <tr>\n",
       "        <td>1</td>\n",
       "        <td>8</td>\n",
       "    </tr>\n",
       "    <tr>\n",
       "        <td>1</td>\n",
       "        <td>9</td>\n",
       "    </tr>\n",
       "    <tr>\n",
       "        <td>1</td>\n",
       "        <td>10</td>\n",
       "    </tr>\n",
       "    <tr>\n",
       "        <td>1</td>\n",
       "        <td>11</td>\n",
       "    </tr>\n",
       "    <tr>\n",
       "        <td>1</td>\n",
       "        <td>12</td>\n",
       "    </tr>\n",
       "    <tr>\n",
       "        <td>1</td>\n",
       "        <td>13</td>\n",
       "    </tr>\n",
       "    <tr>\n",
       "        <td>1</td>\n",
       "        <td>14</td>\n",
       "    </tr>\n",
       "</table>"
      ],
      "text/plain": [
       "[(1, 1),\n",
       " (1, 6),\n",
       " (1, 7),\n",
       " (1, 8),\n",
       " (1, 9),\n",
       " (1, 10),\n",
       " (1, 11),\n",
       " (1, 12),\n",
       " (1, 13),\n",
       " (1, 14)]"
      ]
     },
     "execution_count": 55,
     "metadata": {},
     "output_type": "execute_result"
    }
   ],
   "source": [
    "%%sql\n",
    "\n",
    "WITH album_tracks AS (\n",
    "    SELECT a.album_id\n",
    "           , t.track_id\n",
    "    FROM track AS t\n",
    "    LEFT JOIN album AS a ON t.album_id = a.album_id\n",
    "    WHERE a.album_id IS NOT NULL \n",
    "    ORDER BY a.album_id\n",
    ")\n",
    "\n",
    "SELECT *\n",
    "    FROM album_tracks\n",
    "    ORDER BY album_id, track_id\n",
    "    LIMIT 10"
   ]
  },
  {
   "cell_type": "markdown",
   "metadata": {},
   "source": [
    "Next, we assume that if an invoice contains N number of tracks from a given album, and we know that album has N tracks, then the invoice includes the entire album. An invoice with a different number of tracks did not include the entire album.\n",
    "\n",
    "So, I need another table showing the count of tracks per album:"
   ]
  },
  {
   "cell_type": "code",
   "execution_count": 56,
   "metadata": {
    "collapsed": false
   },
   "outputs": [
    {
     "name": "stdout",
     "output_type": "stream",
     "text": [
      "Done.\n"
     ]
    },
    {
     "data": {
      "text/html": [
       "<table>\n",
       "    <tr>\n",
       "        <th>album_id</th>\n",
       "        <th>n_tracks</th>\n",
       "    </tr>\n",
       "    <tr>\n",
       "        <td>1</td>\n",
       "        <td>10</td>\n",
       "    </tr>\n",
       "    <tr>\n",
       "        <td>2</td>\n",
       "        <td>1</td>\n",
       "    </tr>\n",
       "    <tr>\n",
       "        <td>3</td>\n",
       "        <td>3</td>\n",
       "    </tr>\n",
       "    <tr>\n",
       "        <td>4</td>\n",
       "        <td>8</td>\n",
       "    </tr>\n",
       "    <tr>\n",
       "        <td>5</td>\n",
       "        <td>15</td>\n",
       "    </tr>\n",
       "    <tr>\n",
       "        <td>6</td>\n",
       "        <td>13</td>\n",
       "    </tr>\n",
       "    <tr>\n",
       "        <td>7</td>\n",
       "        <td>12</td>\n",
       "    </tr>\n",
       "    <tr>\n",
       "        <td>8</td>\n",
       "        <td>14</td>\n",
       "    </tr>\n",
       "    <tr>\n",
       "        <td>9</td>\n",
       "        <td>8</td>\n",
       "    </tr>\n",
       "    <tr>\n",
       "        <td>10</td>\n",
       "        <td>14</td>\n",
       "    </tr>\n",
       "</table>"
      ],
      "text/plain": [
       "[(1, 10),\n",
       " (2, 1),\n",
       " (3, 3),\n",
       " (4, 8),\n",
       " (5, 15),\n",
       " (6, 13),\n",
       " (7, 12),\n",
       " (8, 14),\n",
       " (9, 8),\n",
       " (10, 14)]"
      ]
     },
     "execution_count": 56,
     "metadata": {},
     "output_type": "execute_result"
    }
   ],
   "source": [
    "%%sql\n",
    "\n",
    "WITH album_tracks AS (\n",
    "    SELECT a.album_id\n",
    "           , t.track_id\n",
    "    FROM track AS t\n",
    "    LEFT JOIN album AS a ON t.album_id = a.album_id\n",
    "    WHERE a.album_id IS NOT NULL \n",
    "    ORDER BY a.album_id\n",
    "), album_track_counts AS (\n",
    "    SELECT album_id\n",
    "           , COUNT(*) AS n_tracks\n",
    "    FROM album_tracks\n",
    "    GROUP BY album_id\n",
    ")\n",
    "\n",
    "SELECT *\n",
    "    FROM album_track_counts\n",
    "    LIMIT 10"
   ]
  },
  {
   "cell_type": "markdown",
   "metadata": {},
   "source": [
    "Next, I need to count the number of tracks purchased on each album, on each invoice:"
   ]
  },
  {
   "cell_type": "code",
   "execution_count": 57,
   "metadata": {
    "collapsed": false
   },
   "outputs": [
    {
     "name": "stdout",
     "output_type": "stream",
     "text": [
      "Done.\n"
     ]
    },
    {
     "data": {
      "text/html": [
       "<table>\n",
       "    <tr>\n",
       "        <th>invoice_id</th>\n",
       "        <th>album_id</th>\n",
       "        <th>n_tracks_bought</th>\n",
       "    </tr>\n",
       "    <tr>\n",
       "        <td>1</td>\n",
       "        <td>91</td>\n",
       "        <td>16</td>\n",
       "    </tr>\n",
       "    <tr>\n",
       "        <td>2</td>\n",
       "        <td>20</td>\n",
       "        <td>1</td>\n",
       "    </tr>\n",
       "    <tr>\n",
       "        <td>2</td>\n",
       "        <td>34</td>\n",
       "        <td>1</td>\n",
       "    </tr>\n",
       "    <tr>\n",
       "        <td>2</td>\n",
       "        <td>39</td>\n",
       "        <td>1</td>\n",
       "    </tr>\n",
       "    <tr>\n",
       "        <td>2</td>\n",
       "        <td>66</td>\n",
       "        <td>1</td>\n",
       "    </tr>\n",
       "    <tr>\n",
       "        <td>2</td>\n",
       "        <td>73</td>\n",
       "        <td>1</td>\n",
       "    </tr>\n",
       "    <tr>\n",
       "        <td>2</td>\n",
       "        <td>134</td>\n",
       "        <td>1</td>\n",
       "    </tr>\n",
       "    <tr>\n",
       "        <td>2</td>\n",
       "        <td>190</td>\n",
       "        <td>1</td>\n",
       "    </tr>\n",
       "    <tr>\n",
       "        <td>2</td>\n",
       "        <td>215</td>\n",
       "        <td>1</td>\n",
       "    </tr>\n",
       "    <tr>\n",
       "        <td>2</td>\n",
       "        <td>218</td>\n",
       "        <td>1</td>\n",
       "    </tr>\n",
       "</table>"
      ],
      "text/plain": [
       "[(1, 91, 16),\n",
       " (2, 20, 1),\n",
       " (2, 34, 1),\n",
       " (2, 39, 1),\n",
       " (2, 66, 1),\n",
       " (2, 73, 1),\n",
       " (2, 134, 1),\n",
       " (2, 190, 1),\n",
       " (2, 215, 1),\n",
       " (2, 218, 1)]"
      ]
     },
     "execution_count": 57,
     "metadata": {},
     "output_type": "execute_result"
    }
   ],
   "source": [
    "%%sql\n",
    "\n",
    "WITH invoices_tracks_albums AS (\n",
    "    SELECT i.invoice_id\n",
    "           , a.album_id\n",
    "           , t.track_id\n",
    "    FROM invoice AS i\n",
    "    LEFT JOIN invoice_line AS il ON i.invoice_id = il.invoice_id\n",
    "    LEFT JOIN track AS t ON il.track_id = t.track_id\n",
    "    LEFT JOIN album AS a ON t.album_id = a.album_id\n",
    "), invoice_album_counts AS (\n",
    "    SELECT invoice_id\n",
    "           , album_id\n",
    "           , COUNT(*) AS n_tracks_bought\n",
    "    FROM invoices_tracks_albums\n",
    "    GROUP BY invoice_id, album_id\n",
    ")\n",
    "\n",
    "SELECT *\n",
    "    FROM invoice_album_counts\n",
    "    ORDER BY invoice_id, album_id\n",
    "    LIMIT 10"
   ]
  },
  {
   "cell_type": "markdown",
   "metadata": {},
   "source": [
    "Finally, I need to compare the table of actual tracks per album, with the table of purchased tracks per album and invoice. For each invoice/album combination, I assign a value of 1 to the new variable `full_album_purchased` if the numbers match, and I assign 0 if they do not:"
   ]
  },
  {
   "cell_type": "code",
   "execution_count": 58,
   "metadata": {
    "collapsed": false
   },
   "outputs": [
    {
     "name": "stdout",
     "output_type": "stream",
     "text": [
      "Done.\n"
     ]
    },
    {
     "data": {
      "text/html": [
       "<table>\n",
       "    <tr>\n",
       "        <th>invoice_id</th>\n",
       "        <th>album_id</th>\n",
       "        <th>n_tracks_bought</th>\n",
       "        <th>n_tracks</th>\n",
       "        <th>full_album_purchase</th>\n",
       "    </tr>\n",
       "    <tr>\n",
       "        <td>1</td>\n",
       "        <td>91</td>\n",
       "        <td>16</td>\n",
       "        <td>16</td>\n",
       "        <td>1</td>\n",
       "    </tr>\n",
       "    <tr>\n",
       "        <td>2</td>\n",
       "        <td>20</td>\n",
       "        <td>1</td>\n",
       "        <td>11</td>\n",
       "        <td>0</td>\n",
       "    </tr>\n",
       "    <tr>\n",
       "        <td>2</td>\n",
       "        <td>34</td>\n",
       "        <td>1</td>\n",
       "        <td>17</td>\n",
       "        <td>0</td>\n",
       "    </tr>\n",
       "    <tr>\n",
       "        <td>2</td>\n",
       "        <td>39</td>\n",
       "        <td>1</td>\n",
       "        <td>21</td>\n",
       "        <td>0</td>\n",
       "    </tr>\n",
       "    <tr>\n",
       "        <td>2</td>\n",
       "        <td>66</td>\n",
       "        <td>1</td>\n",
       "        <td>10</td>\n",
       "        <td>0</td>\n",
       "    </tr>\n",
       "    <tr>\n",
       "        <td>2</td>\n",
       "        <td>73</td>\n",
       "        <td>1</td>\n",
       "        <td>30</td>\n",
       "        <td>0</td>\n",
       "    </tr>\n",
       "    <tr>\n",
       "        <td>2</td>\n",
       "        <td>134</td>\n",
       "        <td>1</td>\n",
       "        <td>10</td>\n",
       "        <td>0</td>\n",
       "    </tr>\n",
       "    <tr>\n",
       "        <td>2</td>\n",
       "        <td>190</td>\n",
       "        <td>1</td>\n",
       "        <td>16</td>\n",
       "        <td>0</td>\n",
       "    </tr>\n",
       "    <tr>\n",
       "        <td>2</td>\n",
       "        <td>215</td>\n",
       "        <td>1</td>\n",
       "        <td>14</td>\n",
       "        <td>0</td>\n",
       "    </tr>\n",
       "    <tr>\n",
       "        <td>2</td>\n",
       "        <td>218</td>\n",
       "        <td>1</td>\n",
       "        <td>15</td>\n",
       "        <td>0</td>\n",
       "    </tr>\n",
       "    <tr>\n",
       "        <td>2</td>\n",
       "        <td>322</td>\n",
       "        <td>1</td>\n",
       "        <td>11</td>\n",
       "        <td>0</td>\n",
       "    </tr>\n",
       "    <tr>\n",
       "        <td>3</td>\n",
       "        <td>203</td>\n",
       "        <td>1</td>\n",
       "        <td>17</td>\n",
       "        <td>0</td>\n",
       "    </tr>\n",
       "    <tr>\n",
       "        <td>3</td>\n",
       "        <td>214</td>\n",
       "        <td>1</td>\n",
       "        <td>11</td>\n",
       "        <td>0</td>\n",
       "    </tr>\n",
       "    <tr>\n",
       "        <td>4</td>\n",
       "        <td>58</td>\n",
       "        <td>1</td>\n",
       "        <td>9</td>\n",
       "        <td>0</td>\n",
       "    </tr>\n",
       "    <tr>\n",
       "        <td>4</td>\n",
       "        <td>67</td>\n",
       "        <td>1</td>\n",
       "        <td>16</td>\n",
       "        <td>0</td>\n",
       "    </tr>\n",
       "</table>"
      ],
      "text/plain": [
       "[(1, 91, 16, 16, 1),\n",
       " (2, 20, 1, 11, 0),\n",
       " (2, 34, 1, 17, 0),\n",
       " (2, 39, 1, 21, 0),\n",
       " (2, 66, 1, 10, 0),\n",
       " (2, 73, 1, 30, 0),\n",
       " (2, 134, 1, 10, 0),\n",
       " (2, 190, 1, 16, 0),\n",
       " (2, 215, 1, 14, 0),\n",
       " (2, 218, 1, 15, 0),\n",
       " (2, 322, 1, 11, 0),\n",
       " (3, 203, 1, 17, 0),\n",
       " (3, 214, 1, 11, 0),\n",
       " (4, 58, 1, 9, 0),\n",
       " (4, 67, 1, 16, 0)]"
      ]
     },
     "execution_count": 58,
     "metadata": {},
     "output_type": "execute_result"
    }
   ],
   "source": [
    "%%sql\n",
    "\n",
    "WITH invoices_tracks_albums AS (\n",
    "    SELECT i.invoice_id\n",
    "           , a.album_id\n",
    "           , t.track_id\n",
    "    FROM invoice AS i\n",
    "    LEFT JOIN invoice_line AS il ON i.invoice_id = il.invoice_id\n",
    "    LEFT JOIN track AS t ON il.track_id = t.track_id\n",
    "    LEFT JOIN album AS a ON t.album_id = a.album_id\n",
    "), invoice_album_counts AS (\n",
    "    SELECT invoice_id\n",
    "           , album_id\n",
    "           , COUNT(*) AS n_tracks_bought\n",
    "    FROM invoices_tracks_albums\n",
    "    GROUP BY invoice_id, album_id\n",
    "), album_tracks AS (\n",
    "    SELECT a.album_id\n",
    "           , t.track_id\n",
    "    FROM track AS t\n",
    "    LEFT JOIN album AS a ON t.album_id = a.album_id\n",
    "    WHERE a.album_id IS NOT NULL \n",
    "    ORDER BY a.album_id\n",
    "), album_track_counts AS (\n",
    "    SELECT album_id\n",
    "           , COUNT(*) AS n_tracks\n",
    "    FROM album_tracks\n",
    "    GROUP BY album_id\n",
    "), invoice_album_summary AS (\n",
    "    SELECT iac.invoice_id\n",
    "       , iac.album_id\n",
    "       , iac.n_tracks_bought\n",
    "       , atc.n_tracks\n",
    "       , CASE \n",
    "            WHEN iac.n_tracks_bought = atc.n_tracks THEN 1\n",
    "            ELSE 0\n",
    "            END \n",
    "         AS full_album_purchase\n",
    "            \n",
    "    FROM invoice_album_counts AS iac\n",
    "    LEFT JOIN album_track_counts AS atc ON iac.album_id = atc.album_id\n",
    ")\n",
    "\n",
    "SELECT *\n",
    "    FROM invoice_album_summary\n",
    "    LIMIT 15"
   ]
  },
  {
   "cell_type": "markdown",
   "metadata": {},
   "source": [
    "We can see from the above table that some invoices included tracks purchased from each album. In order to group things by invoice, we only count an invoice as a full-album purchase if it includes all tracks from all albums on the invoice:"
   ]
  },
  {
   "cell_type": "code",
   "execution_count": 59,
   "metadata": {
    "collapsed": false
   },
   "outputs": [
    {
     "name": "stdout",
     "output_type": "stream",
     "text": [
      "Done.\n"
     ]
    },
    {
     "data": {
      "text/html": [
       "<table>\n",
       "    <tr>\n",
       "        <th>invoice_id</th>\n",
       "        <th>albums_on_invoice</th>\n",
       "        <th>full_album_purchases</th>\n",
       "        <th>all_albums_purchased</th>\n",
       "    </tr>\n",
       "    <tr>\n",
       "        <td>1</td>\n",
       "        <td>1</td>\n",
       "        <td>1</td>\n",
       "        <td>1</td>\n",
       "    </tr>\n",
       "    <tr>\n",
       "        <td>2</td>\n",
       "        <td>10</td>\n",
       "        <td>0</td>\n",
       "        <td>0</td>\n",
       "    </tr>\n",
       "    <tr>\n",
       "        <td>3</td>\n",
       "        <td>2</td>\n",
       "        <td>0</td>\n",
       "        <td>0</td>\n",
       "    </tr>\n",
       "    <tr>\n",
       "        <td>4</td>\n",
       "        <td>8</td>\n",
       "        <td>1</td>\n",
       "        <td>0</td>\n",
       "    </tr>\n",
       "    <tr>\n",
       "        <td>5</td>\n",
       "        <td>1</td>\n",
       "        <td>1</td>\n",
       "        <td>1</td>\n",
       "    </tr>\n",
       "    <tr>\n",
       "        <td>6</td>\n",
       "        <td>2</td>\n",
       "        <td>0</td>\n",
       "        <td>0</td>\n",
       "    </tr>\n",
       "    <tr>\n",
       "        <td>7</td>\n",
       "        <td>11</td>\n",
       "        <td>1</td>\n",
       "        <td>0</td>\n",
       "    </tr>\n",
       "    <tr>\n",
       "        <td>8</td>\n",
       "        <td>10</td>\n",
       "        <td>0</td>\n",
       "        <td>0</td>\n",
       "    </tr>\n",
       "    <tr>\n",
       "        <td>9</td>\n",
       "        <td>9</td>\n",
       "        <td>0</td>\n",
       "        <td>0</td>\n",
       "    </tr>\n",
       "    <tr>\n",
       "        <td>10</td>\n",
       "        <td>2</td>\n",
       "        <td>0</td>\n",
       "        <td>0</td>\n",
       "    </tr>\n",
       "</table>"
      ],
      "text/plain": [
       "[(1, 1, 1, 1),\n",
       " (2, 10, 0, 0),\n",
       " (3, 2, 0, 0),\n",
       " (4, 8, 1, 0),\n",
       " (5, 1, 1, 1),\n",
       " (6, 2, 0, 0),\n",
       " (7, 11, 1, 0),\n",
       " (8, 10, 0, 0),\n",
       " (9, 9, 0, 0),\n",
       " (10, 2, 0, 0)]"
      ]
     },
     "execution_count": 59,
     "metadata": {},
     "output_type": "execute_result"
    }
   ],
   "source": [
    "%%sql\n",
    "\n",
    "WITH invoices_tracks_albums AS (\n",
    "    SELECT i.invoice_id\n",
    "           , a.album_id\n",
    "           , t.track_id\n",
    "    FROM invoice AS i\n",
    "    LEFT JOIN invoice_line AS il ON i.invoice_id = il.invoice_id\n",
    "    LEFT JOIN track AS t ON il.track_id = t.track_id\n",
    "    LEFT JOIN album AS a ON t.album_id = a.album_id\n",
    "), invoice_album_counts AS (\n",
    "    SELECT invoice_id\n",
    "           , album_id\n",
    "           , COUNT(*) AS n_tracks_bought\n",
    "    FROM invoices_tracks_albums\n",
    "    GROUP BY invoice_id, album_id\n",
    "), album_tracks AS (\n",
    "    SELECT a.album_id\n",
    "           , t.track_id\n",
    "    FROM track AS t\n",
    "    LEFT JOIN album AS a ON t.album_id = a.album_id\n",
    "    WHERE a.album_id IS NOT NULL \n",
    "    ORDER BY a.album_id\n",
    "), album_track_counts AS (\n",
    "    SELECT album_id\n",
    "           , COUNT(*) AS n_tracks\n",
    "    FROM album_tracks\n",
    "    GROUP BY album_id\n",
    "), invoice_album_summary AS (\n",
    "    SELECT iac.invoice_id\n",
    "       , iac.album_id\n",
    "       , iac.n_tracks_bought\n",
    "       , atc.n_tracks\n",
    "       , CASE \n",
    "            WHEN iac.n_tracks_bought = atc.n_tracks THEN 1\n",
    "            ELSE 0\n",
    "            END \n",
    "         AS full_album_purchase\n",
    "\n",
    "    FROM invoice_album_counts AS iac\n",
    "    LEFT JOIN album_track_counts AS atc ON iac.album_id = atc.album_id\n",
    "), invoice_summary AS (\n",
    "    SELECT invoice_id\n",
    "           , COUNT(album_id) AS albums_on_invoice\n",
    "           , SUM(full_album_purchase) AS full_album_purchases\n",
    "           , CASE\n",
    "                WHEN COUNT(album_id) = SUM(full_album_purchase) THEN 1\n",
    "                ELSE 0\n",
    "                END\n",
    "             AS all_albums_purchased\n",
    "    FROM invoice_album_summary\n",
    "    GROUP BY invoice_id\n",
    ")\n",
    "\n",
    "SELECT *\n",
    "    FROM invoice_summary\n",
    "    LIMIT 10"
   ]
  },
  {
   "cell_type": "markdown",
   "metadata": {},
   "source": [
    "Now that we have final identifiers for each invoice indicating whether it was a true full-album purchase, I can aggregate over the resulting table to calculate the number and percentage of invoices that were full album purchases:"
   ]
  },
  {
   "cell_type": "code",
   "execution_count": 60,
   "metadata": {
    "collapsed": false
   },
   "outputs": [
    {
     "name": "stdout",
     "output_type": "stream",
     "text": [
      "Done.\n"
     ]
    },
    {
     "data": {
      "text/html": [
       "<table>\n",
       "    <tr>\n",
       "        <th>purchase_type</th>\n",
       "        <th>count_invoices</th>\n",
       "        <th>percentage_invoices</th>\n",
       "    </tr>\n",
       "    <tr>\n",
       "        <td>Individual track(s) purchased</td>\n",
       "        <td>500</td>\n",
       "        <td>81.4%</td>\n",
       "    </tr>\n",
       "    <tr>\n",
       "        <td>Full album(s) purchased</td>\n",
       "        <td>114</td>\n",
       "        <td>18.6%</td>\n",
       "    </tr>\n",
       "</table>"
      ],
      "text/plain": [
       "[('Individual track(s) purchased', 500, '81.4%'),\n",
       " ('Full album(s) purchased', 114, '18.6%')]"
      ]
     },
     "execution_count": 60,
     "metadata": {},
     "output_type": "execute_result"
    }
   ],
   "source": [
    "%%sql\n",
    "\n",
    "WITH invoices_tracks_albums AS (\n",
    "    SELECT i.invoice_id\n",
    "           , a.album_id\n",
    "           , t.track_id\n",
    "    FROM invoice AS i\n",
    "    LEFT JOIN invoice_line AS il ON i.invoice_id = il.invoice_id\n",
    "    LEFT JOIN track AS t ON il.track_id = t.track_id\n",
    "    LEFT JOIN album AS a ON t.album_id = a.album_id\n",
    "), invoice_album_counts AS (\n",
    "    SELECT invoice_id\n",
    "           , album_id\n",
    "           , COUNT(*) AS n_tracks_bought\n",
    "    FROM invoices_tracks_albums\n",
    "    GROUP BY invoice_id, album_id\n",
    "), album_tracks AS (\n",
    "    SELECT a.album_id\n",
    "           , t.track_id\n",
    "    FROM track AS t\n",
    "    LEFT JOIN album AS a ON t.album_id = a.album_id\n",
    "    WHERE a.album_id IS NOT NULL \n",
    "    ORDER BY a.album_id\n",
    "), album_track_counts AS (\n",
    "    SELECT album_id\n",
    "           , COUNT(*) AS n_tracks\n",
    "    FROM album_tracks\n",
    "    GROUP BY album_id\n",
    "), invoice_album_summary AS (\n",
    "    SELECT iac.invoice_id\n",
    "       , iac.album_id\n",
    "       , iac.n_tracks_bought\n",
    "       , atc.n_tracks\n",
    "       , CASE \n",
    "            WHEN iac.n_tracks_bought = atc.n_tracks THEN 1\n",
    "            ELSE 0\n",
    "            END \n",
    "         AS full_album_purchase\n",
    "\n",
    "    FROM invoice_album_counts AS iac\n",
    "    LEFT JOIN album_track_counts AS atc ON iac.album_id = atc.album_id\n",
    "), invoice_summary AS (\n",
    "    SELECT invoice_id\n",
    "           , COUNT(album_id) AS albums_on_invoice\n",
    "           , SUM(full_album_purchase) AS full_album_purchases\n",
    "           , CASE\n",
    "                WHEN COUNT(album_id) = SUM(full_album_purchase) THEN 1\n",
    "                ELSE 0\n",
    "                END\n",
    "             AS all_albums_purchased\n",
    "    FROM invoice_album_summary\n",
    "    GROUP BY invoice_id\n",
    ")\n",
    "\n",
    "SELECT CASE\n",
    "             WHEN all_albums_purchased = 1 THEN 'Full album(s) purchased'\n",
    "             ELSE 'Individual track(s) purchased'\n",
    "             END AS purchase_type\n",
    "       , COUNT(*) count_invoices\n",
    "       , ROUND(100*CAST(COUNT(all_albums_purchased) AS FLOAT) / (\n",
    "           SELECT COUNT(*) FROM invoice_summary), 1) || '%' AS percentage_invoices \n",
    "    FROM invoice_summary\n",
    "    GROUP BY all_albums_purchased"
   ]
  },
  {
   "cell_type": "markdown",
   "metadata": {},
   "source": [
    "Based on these results, 81.4% of invoices represented individual track(s) being purchased, whereas 18.6% of all invoices represented full album(s) being purchased. Therefore, keeping both options available (buying individual tracks from albums as well as full albums) seems important."
   ]
  }
 ],
 "metadata": {
  "kernelspec": {
   "display_name": "Python 3",
   "language": "python",
   "name": "python3"
  },
  "language_info": {
   "codemirror_mode": {
    "name": "ipython",
    "version": 3
   },
   "file_extension": ".py",
   "mimetype": "text/x-python",
   "name": "python",
   "nbconvert_exporter": "python",
   "pygments_lexer": "ipython3",
   "version": "3.4.3"
  }
 },
 "nbformat": 4,
 "nbformat_minor": 2
}

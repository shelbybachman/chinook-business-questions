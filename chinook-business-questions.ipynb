{
 "cells": [
  {
   "cell_type": "markdown",
   "metadata": {},
   "source": [
    "## Answering business questions with SQL"
   ]
  },
  {
   "cell_type": "markdown",
   "metadata": {},
   "source": [
    "In this project, I used the [`Chinook` database](https://github.com/lerocha/chinook-database) to answer a series of hypothetical business questions. In this notebook, I use SQLite."
   ]
  },
  {
   "cell_type": "markdown",
   "metadata": {},
   "source": [
    "### Setup"
   ]
  },
  {
   "cell_type": "code",
   "execution_count": 8,
   "metadata": {
    "collapsed": false
   },
   "outputs": [
    {
     "data": {
      "text/plain": [
       "'Connected: None@chinook.db'"
      ]
     },
     "execution_count": 8,
     "metadata": {},
     "output_type": "execute_result"
    }
   ],
   "source": [
    "%%capture\n",
    "%load_ext sql\n",
    "%sql sqlite:///chinook.db"
   ]
  },
  {
   "cell_type": "markdown",
   "metadata": {},
   "source": [
    "Below is a graphical depiction of the tables in the `Chinook` database:"
   ]
  },
  {
   "cell_type": "code",
   "execution_count": 9,
   "metadata": {
    "collapsed": false
   },
   "outputs": [
    {
     "data": {
      "text/html": [
       "\n",
       "<img src=\"https://s3.amazonaws.com/dq-content/191/chinook-schema.svg\" alt=\"ChinookDB\"/>"
      ],
      "text/plain": [
       "<IPython.core.display.HTML object>"
      ]
     },
     "metadata": {},
     "output_type": "display_data"
    }
   ],
   "source": [
    "%%html\n",
    "\n",
    "<img src=\"https://s3.amazonaws.com/dq-content/191/chinook-schema.svg\" alt=\"ChinookDB\"/>"
   ]
  },
  {
   "cell_type": "code",
   "execution_count": 10,
   "metadata": {
    "collapsed": false
   },
   "outputs": [
    {
     "ename": "SyntaxError",
     "evalue": "invalid syntax (<ipython-input-10-1d58b9cf40af>, line 1)",
     "output_type": "error",
     "traceback": [
      "\u001b[1;36m  File \u001b[1;32m\"<ipython-input-10-1d58b9cf40af>\"\u001b[1;36m, line \u001b[1;32m1\u001b[0m\n\u001b[1;33m    And below is a tabular summary of the tables in the `Chinook` database:\u001b[0m\n\u001b[1;37m            ^\u001b[0m\n\u001b[1;31mSyntaxError\u001b[0m\u001b[1;31m:\u001b[0m invalid syntax\n"
     ]
    }
   ],
   "source": [
    "And below is a tabular summary of the tables in the `Chinook` database:"
   ]
  },
  {
   "cell_type": "code",
   "execution_count": null,
   "metadata": {
    "collapsed": false
   },
   "outputs": [],
   "source": [
    "%%sql\n",
    "\n",
    "SELECT \n",
    "    name\n",
    "    , type\n",
    "FROM sqlite_master\n",
    "WHeRE type IN ('table', 'view');"
   ]
  },
  {
   "cell_type": "markdown",
   "metadata": {},
   "source": [
    "### Which genres sell the most tracks in the USA?"
   ]
  },
  {
   "cell_type": "markdown",
   "metadata": {},
   "source": [
    "In the first scenario, the Chinook record store has just signed a deal with a new record label, and our task is to find the first 3 albums that will be added to the store. We know that the record label specializes in artists from the US, as well as the artist names from the new label and their respective genres:"
   ]
  },
  {
   "cell_type": "markdown",
   "metadata": {},
   "source": [
    "| Artist Name | Genre |\n",
    "|-------------|-------|\n",
    "| Regal | Hip-Hop |\n",
    "| Red Tone | Punk |\n",
    "| Meteor and the Girls | Pop |\n",
    "| Slim Jim Bites | Blues |"
   ]
  },
  {
   "cell_type": "markdown",
   "metadata": {},
   "source": [
    "I begin tackling this question by examining the genres that sell the most tracks in the US. The query below returns the number and percentage of tracks sold for each genre in the US:"
   ]
  },
  {
   "cell_type": "code",
   "execution_count": null,
   "metadata": {
    "collapsed": false
   },
   "outputs": [],
   "source": [
    "%%sql\n",
    "\n",
    "WITH track_genre AS \n",
    "(\n",
    "    SELECT t.track_id\n",
    "           , t.genre_id\n",
    "           , g.name AS genre_name\n",
    "    FROM track AS t\n",
    "    LEFT JOIN genre AS g ON t.genre_id = g.genre_id\n",
    "), track_invoices AS\n",
    "(\n",
    "    SELECT il.invoice_id\n",
    "           , il.track_id\n",
    "           , tg.genre_name\n",
    "    FROM invoice_line AS il\n",
    "    LEFT JOIN track_genre AS tg ON il.track_id = tg.track_id\n",
    "), track_sales AS\n",
    "(\n",
    "    SELECT ti.invoice_id\n",
    "           , ti.track_id\n",
    "           , ti.genre_name\n",
    "           , i.billing_country\n",
    "           , i.total\n",
    "    FROM invoice AS i\n",
    "    LEFT JOIN track_invoices AS ti ON ti.invoice_id = i.invoice_id\n",
    "    WHERE i.billing_country = 'USA'\n",
    "), genre_totals_usa AS\n",
    "(\n",
    "    SELECT genre_name\n",
    "           , billing_country\n",
    "           , COUNT(*) AS number_of_tracks\n",
    "    FROM track_sales\n",
    "    GROUP BY genre_name\n",
    "), sum_all_tracks AS\n",
    "(\n",
    "    SELECT billing_country\n",
    "           , SUM(number_of_tracks) AS total\n",
    "    FROM genre_totals_usa\n",
    ")\n",
    "\n",
    "SELECT gtu.genre_name\n",
    "       , gtu.number_of_tracks\n",
    "       , ROUND((CAST(gtu.number_of_tracks AS FLOAT) / sat.total),3) AS pct_of_all_tracks\n",
    "    FROM genre_totals_usa AS gtu\n",
    "    LEFT JOIN sum_all_tracks AS sat ON sat.billing_country = gtu.billing_country\n",
    "    ORDER BY number_of_tracks DESC;"
   ]
  },
  {
   "cell_type": "markdown",
   "metadata": {
    "collapsed": true
   },
   "source": [
    "The artists from the new record label have the genres hip-hop, punk, pop, and blues. Based on the above information, our recommendation is to purchase albums from the following 3 artists:\n",
    "\n",
    "| Artist Name | Genre |\n",
    "|-------------|-------|\n",
    "| Red Tone | Punk |\n",
    "| Slim Jim Bites | Blues |\n",
    "| Meteor and the Girls | Pop |"
   ]
  },
  {
   "cell_type": "markdown",
   "metadata": {},
   "source": [
    "### Which sales support agents are performing better or worse than the others?"
   ]
  },
  {
   "cell_type": "markdown",
   "metadata": {},
   "source": [
    "For the next question, we consider that each customer in the `Chinook` database gets assigned to a sales support agent when they make a purchase. We want to know if there are sales support agents that are performing better or worse than others."
   ]
  },
  {
   "cell_type": "markdown",
   "metadata": {},
   "source": [
    "To answer this question, I will analyze the purchases of customers assigned to each sales support agent, and then examine agents associated with especially high and especially low purchase amounts."
   ]
  },
  {
   "cell_type": "code",
   "execution_count": null,
   "metadata": {
    "collapsed": false
   },
   "outputs": [],
   "source": [
    "%%sql\n",
    "\n",
    "WITH customer_rep AS (\n",
    "    SELECT c.customer_id\n",
    "           , c.support_rep_id\n",
    "           , e.first_name || ' ' || e.last_name AS support_rep_name\n",
    "    FROM customer AS c\n",
    "    LEFT JOIN employee AS e ON c.support_rep_id = e.employee_id\n",
    "), customer_totals AS (\n",
    "    SELECT cr.customer_id\n",
    "           , cr.support_rep_id\n",
    "           , cr.support_rep_name\n",
    "           , SUM(i.total) AS total_purchases\n",
    "    FROM invoice AS i\n",
    "    LEFT JOIN customer_rep AS cr ON i.customer_id = cr.customer_id\n",
    "    GROUP BY cr.customer_id\n",
    ")\n",
    "\n",
    "SELECT support_rep_name\n",
    "       , SUM(total_purchases) AS total_customer_purchases\n",
    "    FROM customer_totals\n",
    "    GROUP BY support_rep_name\n",
    "    "
   ]
  },
  {
   "cell_type": "markdown",
   "metadata": {},
   "source": [
    "From the result above, we can see that there is variation in the total sales facilitated by each support agent, although there are only 3 agents total."
   ]
  },
  {
   "cell_type": "markdown",
   "metadata": {},
   "source": [
    "We use the query below to check that these are indeed the only 3 support sales agents in the database:"
   ]
  },
  {
   "cell_type": "code",
   "execution_count": null,
   "metadata": {
    "collapsed": false
   },
   "outputs": [],
   "source": [
    "%%sql\n",
    "\n",
    "SELECT employee_id\n",
    "       , first_name|| ' ' || last_name AS employee_name\n",
    "   FROM employee\n",
    "   WHERE title = \"Sales Support Agent\"\n",
    "   GROUP BY employee_id;"
   ]
  },
  {
   "cell_type": "markdown",
   "metadata": {},
   "source": [
    "### Which countries have the highest total customers and sales?"
   ]
  },
  {
   "cell_type": "markdown",
   "metadata": {},
   "source": [
    "Next, we would like to know the countries with the most customers and sales. To answer this question, for each country, I will calculate the total number of customers, total value of sales, average value of sales per customer, and average order value:"
   ]
  },
  {
   "cell_type": "markdown",
   "metadata": {},
   "source": [
    "Note that there are some countries with only 1 customer. I will group these customers as \"Others\" for the analysis."
   ]
  },
  {
   "cell_type": "code",
   "execution_count": null,
   "metadata": {
    "collapsed": false
   },
   "outputs": [],
   "source": [
    "%%sql\n",
    "\n",
    "WITH customer_invoices AS (\n",
    "    SELECT c.customer_id\n",
    "           , c.first_name || ' ' || c.last_name AS customer_name\n",
    "           , c.country\n",
    "           , i.invoice_id\n",
    "           , i.total\n",
    "    FROM invoice AS i\n",
    "    LEFT JOIN customer AS c ON i.customer_id = c.customer_id\n",
    "), customer_totals AS (\n",
    "    SELECT ci.customer_id\n",
    "           , ci.customer_name\n",
    "           , ci.country\n",
    "           , SUM(ci.total) AS customer_total\n",
    "    FROM customer_invoices AS ci\n",
    "    GROUP BY ci.customer_id\n",
    "), country_customers AS (\n",
    "    SELECT country\n",
    "           , COUNT(*) AS n_customers\n",
    "    FROM customer_totals\n",
    "    GROUP BY country\n",
    "    ORDER BY n_customers DESC\n",
    "), country_customers_relabeled AS (\n",
    "    SELECT \n",
    "        country\n",
    "        , CASE\n",
    "            WHEN country_customers.n_customers = 1 THEN 'Other'\n",
    "            ELSE country_customers.country\n",
    "        END AS country_name\n",
    "        , n_customers\n",
    "    FROM country_customers\n",
    "), country_totals AS (\n",
    "    SELECT ccr.country_name\n",
    "           , SUM(ccr.n_customers) AS total_customers\n",
    "           , SUM(ct.customer_total) AS total_sales\n",
    "           , AVG(ct.customer_total) AS avg_sale_per_customer\n",
    "    FROM customer_totals AS ct\n",
    "    LEFT JOIN country_customers_relabeled AS ccr ON ct.country = ccr.country\n",
    "    GROUP BY ccr.country_name\n",
    "), country_order_avg AS (\n",
    "    SELECT ccr.country_name\n",
    "           , AVG(ci.total) AS avg_order_amount\n",
    "    FROM customer_invoices AS ci\n",
    "    LEFT JOIN country_customers_relabeled AS ccr ON ci.country = ccr.country\n",
    "    GROUP BY ccr.country_name\n",
    "), final_country_summary AS (\n",
    "    SELECT ct.country_name\n",
    "       , ct.total_customers\n",
    "       , ROUND(ct.total_sales, 2) AS total_sales\n",
    "       , ROUND(ct.avg_sale_per_customer, 2) AS avg_sale_per_customer\n",
    "       , ROUND(coa.avg_order_amount, 2) AS avg_order_amount\n",
    "    FROM country_totals AS ct\n",
    "    LEFT JOIN country_order_avg AS coa ON ct.country_name = coa.country_name\n",
    ")\n",
    "\n",
    "SELECT country_name AS country\n",
    "       , total_customers\n",
    "       , total_sales\n",
    "       , avg_sale_per_customer\n",
    "       , avg_order_amount\n",
    "    FROM \n",
    "    (\n",
    "        SELECT fcs.*\n",
    "        , CASE\n",
    "            WHEN fcs.country_name = 'Other' THEN 1\n",
    "            ELSE 0\n",
    "        END AS sort\n",
    "        FROM final_country_summary AS fcs\n",
    "    )\n",
    "    ORDER BY sort ASC"
   ]
  },
  {
   "cell_type": "markdown",
   "metadata": {},
   "source": [
    "The results indicate that the USA has the highest number of total customers, as well as the highest total sales amount (aside from countries collectively marked as Other). Czech Republic has the highest average total sales per customer, as well as the highest average order amount."
   ]
  },
  {
   "cell_type": "markdown",
   "metadata": {},
   "source": [
    "### What percentage of purchases are individual tracks vs. whole albums?"
   ]
  },
  {
   "cell_type": "markdown",
   "metadata": {},
   "source": [
    "To answer this question, I need to identify whether each invoice has all the tracks from an album, which I do in the queries below."
   ]
  },
  {
   "cell_type": "markdown",
   "metadata": {},
   "source": [
    "First, I create a table that has all the tracks and their corresponding album IDs included in each invoice:"
   ]
  },
  {
   "cell_type": "code",
   "execution_count": null,
   "metadata": {
    "collapsed": false
   },
   "outputs": [],
   "source": [
    "%%sql\n",
    "\n",
    "WITH invoices_tracks_albums AS (\n",
    "    SELECT i.invoice_id\n",
    "           , a.album_id\n",
    "           , t.track_id\n",
    "    FROM invoice AS i\n",
    "    LEFT JOIN invoice_line AS il ON i.invoice_id = il.invoice_id\n",
    "    LEFT JOIN track AS t ON il.track_id = t.track_id\n",
    "    LEFT JOIN album AS a ON t.album_id = a.album_id\n",
    ")\n",
    "\n",
    "SELECT *\n",
    "    FROM invoices_tracks_albums\n",
    "    ORDER BY invoice_id, album_id, track_id\n",
    "    LIMIT 100"
   ]
  },
  {
   "cell_type": "markdown",
   "metadata": {
    "collapsed": true
   },
   "source": [
    "I also need a table that lists the tracks on each album:"
   ]
  },
  {
   "cell_type": "code",
   "execution_count": null,
   "metadata": {
    "collapsed": false
   },
   "outputs": [],
   "source": [
    "%%sql\n",
    "\n",
    "WITH album_tracks AS (\n",
    "    SELECT a.album_id\n",
    "           , t.track_id\n",
    "    FROM track AS t\n",
    "    LEFT JOIN album AS a ON t.album_id = a.album_id\n",
    "    WHERE a.album_id IS NOT NULL \n",
    "    ORDER BY a.album_id\n",
    ")\n",
    "\n",
    "SELECT *\n",
    "    FROM album_tracks\n",
    "    ORDER BY album_id, track_id\n",
    "    LIMIT 100"
   ]
  },
  {
   "cell_type": "markdown",
   "metadata": {},
   "source": [
    "Next, we assume that if an invoice contains N number of tracks from a given album, and we know that album has N tracks, then the invoice includes the entire album. An invoice with a different number of tracks did not include the entire album.\n",
    "\n",
    "So, I need another table showing the count of tracks per album:"
   ]
  },
  {
   "cell_type": "code",
   "execution_count": null,
   "metadata": {
    "collapsed": false
   },
   "outputs": [],
   "source": [
    "%%sql\n",
    "\n",
    "WITH album_tracks AS (\n",
    "    SELECT a.album_id\n",
    "           , t.track_id\n",
    "    FROM track AS t\n",
    "    LEFT JOIN album AS a ON t.album_id = a.album_id\n",
    "    WHERE a.album_id IS NOT NULL \n",
    "    ORDER BY a.album_id\n",
    "), album_track_counts AS (\n",
    "    SELECT album_id\n",
    "           , COUNT(*) AS n_tracks\n",
    "    FROM album_tracks\n",
    "    GROUP BY album_id\n",
    ")\n",
    "\n",
    "SELECT *\n",
    "    FROM album_track_counts"
   ]
  },
  {
   "cell_type": "markdown",
   "metadata": {},
   "source": [
    "Next, I need to count the number of tracks purchased on each album, on each invoice:"
   ]
  },
  {
   "cell_type": "code",
   "execution_count": null,
   "metadata": {
    "collapsed": false
   },
   "outputs": [],
   "source": [
    "%%sql\n",
    "\n",
    "WITH invoices_tracks_albums AS (\n",
    "    SELECT i.invoice_id\n",
    "           , a.album_id\n",
    "           , t.track_id\n",
    "    FROM invoice AS i\n",
    "    LEFT JOIN invoice_line AS il ON i.invoice_id = il.invoice_id\n",
    "    LEFT JOIN track AS t ON il.track_id = t.track_id\n",
    "    LEFT JOIN album AS a ON t.album_id = a.album_id\n",
    "), invoice_album_counts AS (\n",
    "    SELECT invoice_id\n",
    "           , album_id\n",
    "           , COUNT(*) AS n_tracks_bought\n",
    "    FROM invoices_tracks_albums\n",
    "    GROUP BY invoice_id, album_id\n",
    ")\n",
    "\n",
    "SELECT *\n",
    "    FROM invoice_album_counts\n",
    "    ORDER BY invoice_id, album_id\n",
    "    LIMIT 100"
   ]
  },
  {
   "cell_type": "markdown",
   "metadata": {},
   "source": [
    "Finally, I need to compare the table of actual tracks per album, with the table of purchased tracks per album and invoice. For each invoice/album combination, I assign a value of 1 to the new variable `full_album_purchased` if the numbers match, and I assign 0 if they do not:"
   ]
  },
  {
   "cell_type": "code",
   "execution_count": null,
   "metadata": {
    "collapsed": false
   },
   "outputs": [],
   "source": [
    "%%sql\n",
    "\n",
    "WITH invoices_tracks_albums AS (\n",
    "    SELECT i.invoice_id\n",
    "           , a.album_id\n",
    "           , t.track_id\n",
    "    FROM invoice AS i\n",
    "    LEFT JOIN invoice_line AS il ON i.invoice_id = il.invoice_id\n",
    "    LEFT JOIN track AS t ON il.track_id = t.track_id\n",
    "    LEFT JOIN album AS a ON t.album_id = a.album_id\n",
    "), invoice_album_counts AS (\n",
    "    SELECT invoice_id\n",
    "           , album_id\n",
    "           , COUNT(*) AS n_tracks_bought\n",
    "    FROM invoices_tracks_albums\n",
    "    GROUP BY invoice_id, album_id\n",
    "), album_tracks AS (\n",
    "    SELECT a.album_id\n",
    "           , t.track_id\n",
    "    FROM track AS t\n",
    "    LEFT JOIN album AS a ON t.album_id = a.album_id\n",
    "    WHERE a.album_id IS NOT NULL \n",
    "    ORDER BY a.album_id\n",
    "), album_track_counts AS (\n",
    "    SELECT album_id\n",
    "           , COUNT(*) AS n_tracks\n",
    "    FROM album_tracks\n",
    "    GROUP BY album_id\n",
    "), invoice_album_summary AS (\n",
    "    SELECT iac.invoice_id\n",
    "       , iac.album_id\n",
    "       , iac.n_tracks_bought\n",
    "       , atc.n_tracks\n",
    "       , CASE \n",
    "            WHEN iac.n_tracks_bought = atc.n_tracks THEN 1\n",
    "            ELSE 0\n",
    "            END \n",
    "         AS full_album_purchase\n",
    "            \n",
    "    FROM invoice_album_counts AS iac\n",
    "    LEFT JOIN album_track_counts AS atc ON iac.album_id = atc.album_id\n",
    ")\n",
    "\n",
    "SELECT *\n",
    "    FROM invoice_album_summary"
   ]
  },
  {
   "cell_type": "markdown",
   "metadata": {},
   "source": [
    "We can see from the above table that some invoices included tracks purchased from each album. In order to group things by invoice, we only count an invoice as a full-album purchase if it includes all tracks from all albums on the invoice:"
   ]
  },
  {
   "cell_type": "code",
   "execution_count": null,
   "metadata": {
    "collapsed": false
   },
   "outputs": [],
   "source": [
    "%%sql\n",
    "\n",
    "WITH invoices_tracks_albums AS (\n",
    "    SELECT i.invoice_id\n",
    "           , a.album_id\n",
    "           , t.track_id\n",
    "    FROM invoice AS i\n",
    "    LEFT JOIN invoice_line AS il ON i.invoice_id = il.invoice_id\n",
    "    LEFT JOIN track AS t ON il.track_id = t.track_id\n",
    "    LEFT JOIN album AS a ON t.album_id = a.album_id\n",
    "), invoice_album_counts AS (\n",
    "    SELECT invoice_id\n",
    "           , album_id\n",
    "           , COUNT(*) AS n_tracks_bought\n",
    "    FROM invoices_tracks_albums\n",
    "    GROUP BY invoice_id, album_id\n",
    "), album_tracks AS (\n",
    "    SELECT a.album_id\n",
    "           , t.track_id\n",
    "    FROM track AS t\n",
    "    LEFT JOIN album AS a ON t.album_id = a.album_id\n",
    "    WHERE a.album_id IS NOT NULL \n",
    "    ORDER BY a.album_id\n",
    "), album_track_counts AS (\n",
    "    SELECT album_id\n",
    "           , COUNT(*) AS n_tracks\n",
    "    FROM album_tracks\n",
    "    GROUP BY album_id\n",
    "), invoice_album_summary AS (\n",
    "    SELECT iac.invoice_id\n",
    "       , iac.album_id\n",
    "       , iac.n_tracks_bought\n",
    "       , atc.n_tracks\n",
    "       , CASE \n",
    "            WHEN iac.n_tracks_bought = atc.n_tracks THEN 1\n",
    "            ELSE 0\n",
    "            END \n",
    "         AS full_album_purchase\n",
    "\n",
    "    FROM invoice_album_counts AS iac\n",
    "    LEFT JOIN album_track_counts AS atc ON iac.album_id = atc.album_id\n",
    "), invoice_summary AS (\n",
    "    SELECT invoice_id\n",
    "           , COUNT(album_id) AS albums_on_invoice\n",
    "           , SUM(full_album_purchase) AS full_album_purchases\n",
    "           , CASE\n",
    "                WHEN COUNT(album_id) = SUM(full_album_purchase) THEN 1\n",
    "                ELSE 0\n",
    "                END\n",
    "             AS all_albums_purchased\n",
    "    FROM invoice_album_summary\n",
    "    GROUP BY invoice_id\n",
    ")\n",
    "\n",
    "SELECT *\n",
    "    FROM invoice_summary"
   ]
  },
  {
   "cell_type": "markdown",
   "metadata": {},
   "source": [
    "Now that we have final identifiers for each invoice indicating whether it was a true full-album purchase, I can aggregate over the resulting table to calculate the number and percentage of invoices that were full album purchases:"
   ]
  },
  {
   "cell_type": "code",
   "execution_count": null,
   "metadata": {
    "collapsed": false
   },
   "outputs": [],
   "source": [
    "%%sql\n",
    "\n",
    "WITH invoices_tracks_albums AS (\n",
    "    SELECT i.invoice_id\n",
    "           , a.album_id\n",
    "           , t.track_id\n",
    "    FROM invoice AS i\n",
    "    LEFT JOIN invoice_line AS il ON i.invoice_id = il.invoice_id\n",
    "    LEFT JOIN track AS t ON il.track_id = t.track_id\n",
    "    LEFT JOIN album AS a ON t.album_id = a.album_id\n",
    "), invoice_album_counts AS (\n",
    "    SELECT invoice_id\n",
    "           , album_id\n",
    "           , COUNT(*) AS n_tracks_bought\n",
    "    FROM invoices_tracks_albums\n",
    "    GROUP BY invoice_id, album_id\n",
    "), album_tracks AS (\n",
    "    SELECT a.album_id\n",
    "           , t.track_id\n",
    "    FROM track AS t\n",
    "    LEFT JOIN album AS a ON t.album_id = a.album_id\n",
    "    WHERE a.album_id IS NOT NULL \n",
    "    ORDER BY a.album_id\n",
    "), album_track_counts AS (\n",
    "    SELECT album_id\n",
    "           , COUNT(*) AS n_tracks\n",
    "    FROM album_tracks\n",
    "    GROUP BY album_id\n",
    "), invoice_album_summary AS (\n",
    "    SELECT iac.invoice_id\n",
    "       , iac.album_id\n",
    "       , iac.n_tracks_bought\n",
    "       , atc.n_tracks\n",
    "       , CASE \n",
    "            WHEN iac.n_tracks_bought = atc.n_tracks THEN 1\n",
    "            ELSE 0\n",
    "            END \n",
    "         AS full_album_purchase\n",
    "\n",
    "    FROM invoice_album_counts AS iac\n",
    "    LEFT JOIN album_track_counts AS atc ON iac.album_id = atc.album_id\n",
    "), invoice_summary AS (\n",
    "    SELECT invoice_id\n",
    "           , COUNT(album_id) AS albums_on_invoice\n",
    "           , SUM(full_album_purchase) AS full_album_purchases\n",
    "           , CASE\n",
    "                WHEN COUNT(album_id) = SUM(full_album_purchase) THEN 1\n",
    "                ELSE 0\n",
    "                END\n",
    "             AS all_albums_purchased\n",
    "    FROM invoice_album_summary\n",
    "    GROUP BY invoice_id\n",
    ")\n",
    "\n",
    "SELECT CASE\n",
    "             WHEN all_albums_purchased = 1 THEN 'Full album(s) purchased'\n",
    "             ELSE 'Individual track(s) purchased'\n",
    "             END AS purchase_type\n",
    "       , COUNT(*) count_invoices\n",
    "       , ROUND(100*CAST(COUNT(all_albums_purchased) AS FLOAT) / (\n",
    "           SELECT COUNT(*) FROM invoice_summary), 1) || '%' AS percentage_invoices \n",
    "    FROM invoice_summary\n",
    "    GROUP BY all_albums_purchased"
   ]
  },
  {
   "cell_type": "markdown",
   "metadata": {},
   "source": [
    "Based on these results, 81.4% of invoices represented individual track(s) being purchased, whereas 18.6% of all invoices represented full album(s) being purchased. Therefore, keeping both options available (buying individual tracks from albums as well as full albums) seems important."
   ]
  }
 ],
 "metadata": {
  "kernelspec": {
   "display_name": "Python 3",
   "language": "python",
   "name": "python3"
  },
  "language_info": {
   "codemirror_mode": {
    "name": "ipython",
    "version": 3
   },
   "file_extension": ".py",
   "mimetype": "text/x-python",
   "name": "python",
   "nbconvert_exporter": "python",
   "pygments_lexer": "ipython3",
   "version": "3.4.3"
  }
 },
 "nbformat": 4,
 "nbformat_minor": 2
}
